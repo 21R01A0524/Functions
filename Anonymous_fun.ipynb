{
 "cells": [
  {
   "cell_type": "markdown",
   "id": "f5e6b6c1-15dc-4bf7-bf82-58b1dfd27a8a",
   "metadata": {},
   "source": [
    "# Anonymous functions:\n",
    "- In python  anonymous function starts with  Lambda keywords followed by arguments & single line expression .\n",
    "- This function doesn't have function name.\n"
   ]
  },
  {
   "cell_type": "code",
   "execution_count": null,
   "id": "9229eaf5-8182-4a37-9534-d999c4a2e36c",
   "metadata": {},
   "outputs": [],
   "source": [
    "#syntax\n",
    "    lambda arguments:expression "
   ]
  },
  {
   "cell_type": "code",
   "execution_count": 2,
   "id": "3c79e792-1d56-4e05-9939-a58fd756e397",
   "metadata": {},
   "outputs": [
    {
     "name": "stdout",
     "output_type": "stream",
     "text": [
      "25\n",
      "64\n"
     ]
    }
   ],
   "source": [
    "square=lambda x:x**2\n",
    "print(square(5))\n",
    "print(square(8))"
   ]
  },
  {
   "cell_type": "code",
   "execution_count": 5,
   "id": "215552d1-1b4f-4f45-968d-a8e46e93d33b",
   "metadata": {},
   "outputs": [
    {
     "name": "stdout",
     "output_type": "stream",
     "text": [
      "Negative\n",
      "Positive\n"
     ]
    }
   ],
   "source": [
    "# if else in single line\n",
    "# True _statement if condition else false_statement\n",
    "state=lambda x:\"Positive\" if x>=0 else \"Negative\"\n",
    "print(state(-5))\n",
    "print(state(8))"
   ]
  },
  {
   "cell_type": "code",
   "execution_count": 7,
   "id": "ce75ea17-c05f-40f4-a2e0-c51bdb13e8a3",
   "metadata": {},
   "outputs": [
    {
     "name": "stdout",
     "output_type": "stream",
     "text": [
      "[1, 4, 9, 16, 25, 36]\n"
     ]
    }
   ],
   "source": [
    "# map with lambda\n",
    "l=[1,2,3,4,5,6]\n",
    "lst=list(map(lambda x:x**2,l))\n",
    "print(lst)"
   ]
  },
  {
   "cell_type": "code",
   "execution_count": 8,
   "id": "99009bec-98b7-4a11-a2f3-d2afecba13a9",
   "metadata": {},
   "outputs": [
    {
     "name": "stdout",
     "output_type": "stream",
     "text": [
      "[True, True, True, True, True, True]\n"
     ]
    }
   ],
   "source": [
    "# filter with lambda\n",
    "l=[1,2,3,4,5,6]\n",
    "lst=list(map(lambda x:x>=0,l))\n",
    "print(lst)"
   ]
  },
  {
   "cell_type": "code",
   "execution_count": 9,
   "id": "35d835b1-ef5f-42eb-82ea-a462242e8aae",
   "metadata": {},
   "outputs": [
    {
     "name": "stdout",
     "output_type": "stream",
     "text": [
      "[True, True, False, True, False, True]\n"
     ]
    }
   ],
   "source": [
    " # filter with lambda\n",
    "l=[1,2,-3,4,-5,6]\n",
    "lst=list(map(lambda x:x>=0,l))\n",
    "print(lst)"
   ]
  },
  {
   "cell_type": "code",
   "execution_count": 10,
   "id": "96e6ac68-8441-4147-b707-29f7d86a3732",
   "metadata": {},
   "outputs": [
    {
     "name": "stdout",
     "output_type": "stream",
     "text": [
      "[1, 2, 4, 6]\n"
     ]
    }
   ],
   "source": [
    " # filter with lambda\n",
    "l=[1,2,-3,4,-5,6]\n",
    "lst=list(filter(lambda x:x>=0,l))\n",
    "print(lst)"
   ]
  },
  {
   "cell_type": "code",
   "execution_count": 11,
   "id": "38cb8c5e-dc4a-4d38-b3b6-e7c6ef3acdb9",
   "metadata": {},
   "outputs": [
    {
     "name": "stdout",
     "output_type": "stream",
     "text": [
      "[2, 4, 6]\n"
     ]
    }
   ],
   "source": [
    " # filter with lambda\n",
    "l=[1,2,-3,4,-5,6]\n",
    "lst=list(filter(lambda x:x%2==0,l))\n",
    "print(lst)"
   ]
  },
  {
   "cell_type": "code",
   "execution_count": 15,
   "id": "71ee7c02-addc-47ec-92b7-128d4b9a6108",
   "metadata": {},
   "outputs": [
    {
     "name": "stdout",
     "output_type": "stream",
     "text": [
      "AW5K:#O\n"
     ]
    }
   ],
   "source": [
    "#list of numbers to a string\n",
    "l=[65,87,53,75,58,35,79]\n",
    "print(\"\".join(list(map(lambda x:chr(x),l))))"
   ]
  },
  {
   "cell_type": "code",
   "execution_count": 17,
   "id": "40c61a0a-186b-4e68-965e-5cfd1b714e3b",
   "metadata": {},
   "outputs": [
    {
     "name": "stdout",
     "output_type": "stream",
     "text": [
      "['apple', 'banana', 'cherry', 'orange']\n"
     ]
    }
   ],
   "source": [
    "l=['apple','orange','cherry','banana']\n",
    "l.sort()\n",
    "print(l)"
   ]
  },
  {
   "cell_type": "code",
   "execution_count": 18,
   "id": "3ca271c6-4846-4627-9f7d-bc592ceaaa92",
   "metadata": {},
   "outputs": [
    {
     "name": "stdout",
     "output_type": "stream",
     "text": [
      "['apple', 'orange', 'cherry', 'banana']\n"
     ]
    }
   ],
   "source": [
    "#sort with lambda function\n",
    "l=['apple','orange','cherry','banana']\n",
    "l.sort(key=lambda x:len(x))\n",
    "print(l)"
   ]
  },
  {
   "cell_type": "code",
   "execution_count": 19,
   "id": "362492a2-a54b-47c7-bf4b-32641829c5b8",
   "metadata": {},
   "outputs": [
    {
     "name": "stdout",
     "output_type": "stream",
     "text": [
      "{'C': 1, 'o': 1, 'd': 1, 'e': 1, 'g': 1, 'n': 2, 'a': 1}\n"
     ]
    }
   ],
   "source": [
    "#character frequency\n",
    "s=\"Codegnan\" \n",
    "d={}\n",
    "for char in s:\n",
    "    if char in d:\n",
    "        d[char]+=1\n",
    "    else:\n",
    "        d[char]=1\n",
    "print(d)"
   ]
  },
  {
   "cell_type": "code",
   "execution_count": 21,
   "id": "b4e4c36c-80d6-4f1e-b753-5e24241f63af",
   "metadata": {},
   "outputs": [
    {
     "name": "stdout",
     "output_type": "stream",
     "text": [
      "[('n', 2), ('C', 1), ('o', 1), ('d', 1), ('e', 1), ('g', 1), ('a', 1)]\n"
     ]
    }
   ],
   "source": [
    "#character frequency\n",
    "s=\"Codegnan\" \n",
    "d={}\n",
    "for char in s:\n",
    "    if char in d:\n",
    "        d[char]+=1\n",
    "    else:\n",
    "        d[char]=1\n",
    "#print(d)\n",
    "sorted_dict=sorted(d.items(),key=lambda x:x[1],reverse=True)\n",
    "print(sorted_dict)"
   ]
  },
  {
   "cell_type": "code",
   "execution_count": 23,
   "id": "84b7bb74-a86a-423d-b340-fef9efbc2e40",
   "metadata": {},
   "outputs": [
    {
     "name": "stdout",
     "output_type": "stream",
     "text": [
      "[('n', 2), ('o', 1), ('g', 1), ('e', 1), ('d', 1), ('a', 1), ('C', 1)]\n",
      "n-2\n",
      "o-1\n",
      "g-1\n",
      "e-1\n",
      "d-1\n",
      "a-1\n",
      "C-1\n"
     ]
    }
   ],
   "source": [
    "#character frequency\n",
    "s=\"Codegnan\" \n",
    "d={}\n",
    "for char in s:\n",
    "    if char in d:\n",
    "        d[char]+=1\n",
    "    else:\n",
    "        d[char]=1\n",
    "#print(d)\n",
    "sorted_dict=sorted(d.items(),key=lambda x:(x[1],x[0]),reverse=True)\n",
    "print(sorted_dict)\n",
    "for key,val in sorted_dict:\n",
    "    print(f'{key}-{val}')"
   ]
  },
  {
   "cell_type": "code",
   "execution_count": 28,
   "id": "d85ff72a-4bd2-4931-ae94-9eacfbfd5c20",
   "metadata": {},
   "outputs": [
    {
     "name": "stdout",
     "output_type": "stream",
     "text": [
      "b-5\n",
      "u-4\n",
      "c-4\n",
      "a-3\n"
     ]
    }
   ],
   "source": [
    "#character frequency\n",
    "s=\"aaabbbbbccccuuuu\" \n",
    "d={}\n",
    "for char in s:\n",
    "    if char in d:\n",
    "        d[char]+=1\n",
    "    else:\n",
    "        d[char]=1\n",
    "#print(d)\n",
    "#sorting as per the frequency\n",
    "sorted_dict=sorted(d.items(),key=lambda x:(x[1],x[0]),reverse=True)\n",
    "#print(sorted_dict)\n",
    "for key,val in sorted_dict:\n",
    "    print(f'{key}-{val}')"
   ]
  },
  {
   "cell_type": "code",
   "execution_count": 29,
   "id": "e5928053-dbcb-4d67-99f4-db45f6384df7",
   "metadata": {},
   "outputs": [
    {
     "name": "stdout",
     "output_type": "stream",
     "text": [
      "dict_items([('a', 3), ('b', 5), ('c', 4), ('u', 4)])\n",
      "b-5\n",
      "u-4\n",
      "c-4\n",
      "a-3\n"
     ]
    }
   ],
   "source": [
    "#character frequency\n",
    "s=\"aaabbbbbccccuuuu\" \n",
    "d={}\n",
    "for char in s:\n",
    "    if char in d:\n",
    "        d[char]+=1\n",
    "    else:\n",
    "        d[char]=1\n",
    "print(d.items())\n",
    "#sorting as per the frequency\n",
    "sorted_dict=sorted(d.items(),key=lambda item:(item[1],item[0]),reverse=True)\n",
    "#print(sorted_dict)\n",
    "for key,val in sorted_dict:\n",
    "    print(f'{key}-{val}')"
   ]
  },
  {
   "cell_type": "code",
   "execution_count": 30,
   "id": "4844e9d3-dbfe-4038-a024-bacebbd43c2b",
   "metadata": {},
   "outputs": [
    {
     "name": "stdout",
     "output_type": "stream",
     "text": [
      "[2, 4, 6, 8, 10]\n"
     ]
    }
   ],
   "source": [
    "# list Comprehension\n",
    "# 1-10 even numbers\n",
    "l=[x for x in range(1,11) if x%2==0]\n",
    "print(l)"
   ]
  },
  {
   "cell_type": "code",
   "execution_count": 31,
   "id": "45ec3d65-409a-4cd8-8464-8c88db619212",
   "metadata": {},
   "outputs": [
    {
     "name": "stdout",
     "output_type": "stream",
     "text": [
      "[0, 2, 4, 6, 8, 10]\n"
     ]
    }
   ],
   "source": [
    "#without if condition\n",
    "l=[x for x in range(0,11,2)]\n",
    "print(l)"
   ]
  },
  {
   "cell_type": "code",
   "execution_count": 32,
   "id": "07d9cf22-84f3-413e-9c0e-93b749e93615",
   "metadata": {},
   "outputs": [
    {
     "name": "stdout",
     "output_type": "stream",
     "text": [
      "[1, 3, 6, 10, 15, 21]\n"
     ]
    }
   ],
   "source": [
    "#prefix sum\n",
    "l=[1,2,3,4,5,6]\n",
    "pre_sum=[1,3,6,10,15,21]\n",
    "suffix_sum=[6,11,15,13,20,21]\n",
    "res=0\n",
    "pre_sum=[]\n",
    "for num in l:\n",
    "    res+=num\n",
    "    pre_sum.append(res)\n",
    "print(pre_sum)"
   ]
  },
  {
   "cell_type": "code",
   "execution_count": 34,
   "id": "f9c9860b-9049-4a17-8619-3a735faeb074",
   "metadata": {},
   "outputs": [
    {
     "name": "stdout",
     "output_type": "stream",
     "text": [
      "[1, 3, 6, 10, 15, 21]\n"
     ]
    }
   ],
   "source": [
    "#prefix sum\n",
    "l=[1,2,3,4,5,6]\n",
    "pre_sum=[1,3,6,10,15,21]\n",
    "suffix_sum=[6,11,15,18,20,21]\n",
    "res=0\n",
    "pre_sum=[]\n",
    "suffix_sum=[]\n",
    "n=len(l)\n",
    "for i in range(n):\n",
    "    res+=l[i]\n",
    "    pre_sum.append(res)\n",
    "print(pre_sum)"
   ]
  },
  {
   "cell_type": "code",
   "execution_count": 35,
   "id": "9581a538-aea0-4433-aeae-b33e097c12b2",
   "metadata": {},
   "outputs": [
    {
     "name": "stdout",
     "output_type": "stream",
     "text": [
      "[1, 3, 6, 10, 15, 21]\n"
     ]
    }
   ],
   "source": [
    "#prefix sum\n",
    "l=[1,2,3,4,5,6]\n",
    "#pre_sum=[1,3,6,10,15,21]\n",
    "#suffix_sum=[6,11,15,18,20,21]\n",
    "res=0\n",
    "pre_sum=[]\n",
    "for num in l:\n",
    "    res+=num\n",
    "    pre_sum.append(res)\n",
    "print(pre_sum)"
   ]
  },
  {
   "cell_type": "code",
   "execution_count": 37,
   "id": "f1f35560-9b2c-4f09-925a-4cc11f20893c",
   "metadata": {},
   "outputs": [
    {
     "name": "stdout",
     "output_type": "stream",
     "text": [
      "[6, 11, 15, 18, 20, 21]\n"
     ]
    }
   ],
   "source": [
    "#suffix sum\n",
    "l=[1,2,3,4,5,6]\n",
    "res=0\n",
    "suffix_sum=[]\n",
    "n=len(l)\n",
    "for i in range(n-1,-1,-1):\n",
    "    res+=l[i]\n",
    "    suffix_sum.append(res)\n",
    "print(suffix_sum)"
   ]
  },
  {
   "cell_type": "code",
   "execution_count": null,
   "id": "37b91eaf-4368-4d5e-9d6b-7111bbc871e8",
   "metadata": {},
   "outputs": [],
   "source": []
  }
 ],
 "metadata": {
  "kernelspec": {
   "display_name": "Python 3 (ipykernel)",
   "language": "python",
   "name": "python3"
  },
  "language_info": {
   "codemirror_mode": {
    "name": "ipython",
    "version": 3
   },
   "file_extension": ".py",
   "mimetype": "text/x-python",
   "name": "python",
   "nbconvert_exporter": "python",
   "pygments_lexer": "ipython3",
   "version": "3.12.0"
  }
 },
 "nbformat": 4,
 "nbformat_minor": 5
}

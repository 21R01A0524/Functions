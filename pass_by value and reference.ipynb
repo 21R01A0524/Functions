{
 "cells": [
  {
   "cell_type": "code",
   "execution_count": 1,
   "id": "12a51a6d-7db6-4430-90e9-0a0c5fe1f249",
   "metadata": {},
   "outputs": [
    {
     "name": "stdout",
     "output_type": "stream",
     "text": [
      "10\n",
      "5\n"
     ]
    }
   ],
   "source": [
    "#pass by value\n",
    "def add(x):\n",
    "    x=x+5\n",
    "    print(x)\n",
    "a=5\n",
    "add(a)\n",
    "print(a)"
   ]
  },
  {
   "cell_type": "code",
   "execution_count": 3,
   "id": "d0879717-3667-4dad-815d-39ee3a2620b4",
   "metadata": {},
   "outputs": [
    {
     "name": "stdout",
     "output_type": "stream",
     "text": [
      "Inside function: [1, 2, 3, 55]\n",
      "outside function: [1, 2, 3, 55]\n"
     ]
    }
   ],
   "source": [
    "def add_ele(l1,ele):\n",
    "    l1.append(ele)\n",
    "    print(\"Inside function:\",l1)\n",
    "l=[1,2,3]\n",
    "ele=55\n",
    "add_ele(l,ele)\n",
    "print(\"outside function:\",l)"
   ]
  },
  {
   "cell_type": "code",
   "execution_count": null,
   "id": "e40b706e-9a7f-4e77-a204-721029f44522",
   "metadata": {},
   "outputs": [],
   "source": []
  }
 ],
 "metadata": {
  "kernelspec": {
   "display_name": "Python 3 (ipykernel)",
   "language": "python",
   "name": "python3"
  },
  "language_info": {
   "codemirror_mode": {
    "name": "ipython",
    "version": 3
   },
   "file_extension": ".py",
   "mimetype": "text/x-python",
   "name": "python",
   "nbconvert_exporter": "python",
   "pygments_lexer": "ipython3",
   "version": "3.12.0"
  }
 },
 "nbformat": 4,
 "nbformat_minor": 5
}

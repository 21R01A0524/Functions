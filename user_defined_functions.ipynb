{
 "cells": [
  {
   "cell_type": "code",
   "execution_count": 1,
   "id": "653a343d-ec0e-49e4-9e31-53d4ce8af762",
   "metadata": {},
   "outputs": [
    {
     "name": "stdout",
     "output_type": "stream",
     "text": [
      "30\n",
      "None\n"
     ]
    }
   ],
   "source": [
    "#without parameters and with return type\n",
    "#function defination\n",
    "def addition():\n",
    "    a=10\n",
    "    b=20\n",
    "    print(a+b)\n",
    "#function calling\n",
    "res=addition()\n",
    "print(res)"
   ]
  },
  {
   "cell_type": "code",
   "execution_count": 3,
   "id": "3fc6be66-626f-4179-9b9b-2ffe4543b5ce",
   "metadata": {},
   "outputs": [
    {
     "name": "stdout",
     "output_type": "stream",
     "text": [
      "30\n",
      "None\n"
     ]
    }
   ],
   "source": [
    "#with parameters and without return type\n",
    "def addition(a,b):\n",
    "    print(a+b)\n",
    "res=addition(10,20)\n",
    "print(res)"
   ]
  },
  {
   "cell_type": "code",
   "execution_count": 4,
   "id": "3761ae48-f393-44b4-b09a-580ae0b91318",
   "metadata": {},
   "outputs": [
    {
     "name": "stdout",
     "output_type": "stream",
     "text": [
      "25\n"
     ]
    }
   ],
   "source": [
    "#with parameters and with return type\n",
    "def addition(a,b):\n",
    "    c=a+b\n",
    "    return c\n",
    "res=addition(10,15)\n",
    "print(res)"
   ]
  },
  {
   "cell_type": "code",
   "execution_count": 5,
   "id": "ef9b9c2b-f6f3-4679-98b6-ecba39f23d38",
   "metadata": {},
   "outputs": [
    {
     "name": "stdout",
     "output_type": "stream",
     "text": [
      "None\n"
     ]
    }
   ],
   "source": [
    "#with parameters and with return type\n",
    "def addition(a,b):\n",
    "    c=a+b\n",
    "    return \n",
    "res=addition(10,15)\n",
    "print(res)"
   ]
  },
  {
   "cell_type": "code",
   "execution_count": 6,
   "id": "f48bad1e-8830-4e45-ba20-37e279b49520",
   "metadata": {},
   "outputs": [
    {
     "name": "stdout",
     "output_type": "stream",
     "text": [
      "None\n"
     ]
    }
   ],
   "source": [
    "#with parameters and with return type\n",
    "def addition(a,b):\n",
    "    c=a+b\n",
    "res=addition(10,15)\n",
    "print(res)"
   ]
  },
  {
   "cell_type": "code",
   "execution_count": 7,
   "id": "39abf3e7-3d12-4070-ba8c-b881a00718d4",
   "metadata": {},
   "outputs": [
    {
     "name": "stdout",
     "output_type": "stream",
     "text": [
      "25\n",
      "None\n"
     ]
    }
   ],
   "source": [
    "#with parameters and with return type\n",
    "def addition(a,b):\n",
    "    print(a+b)\n",
    "   \n",
    "res=addition(10,15)\n",
    "print(res)"
   ]
  },
  {
   "cell_type": "code",
   "execution_count": 8,
   "id": "87cb475a-bc65-4b41-b59d-d495dd4d88c2",
   "metadata": {},
   "outputs": [
    {
     "name": "stdout",
     "output_type": "stream",
     "text": [
      "35\n",
      "None\n"
     ]
    }
   ],
   "source": [
    "#without parameters and without return type\n",
    "def addition():\n",
    "    a=10\n",
    "    b=25\n",
    "    print(a+b)\n",
    "res=addition()\n",
    "print(res)"
   ]
  },
  {
   "cell_type": "code",
   "execution_count": 9,
   "id": "27333180-116a-4d23-8c9e-dc1be15cb1b7",
   "metadata": {},
   "outputs": [
    {
     "name": "stdout",
     "output_type": "stream",
     "text": [
      "25\n",
      "-5\n",
      "None\n"
     ]
    }
   ],
   "source": [
    "def addition(a,b):\n",
    "    print(a+b)\n",
    "    if b<10:\n",
    "        print(a+b)\n",
    "    else:\n",
    "        print(a-b)\n",
    "res=addition(10,15)\n",
    "print(res)"
   ]
  },
  {
   "cell_type": "code",
   "execution_count": 14,
   "id": "f87edb94-0923-423e-a4ba-1c019ebcf45b",
   "metadata": {},
   "outputs": [
    {
     "name": "stdout",
     "output_type": "stream",
     "text": [
      "25\n",
      "-5\n",
      "None\n"
     ]
    }
   ],
   "source": [
    "def addition(a,b):\n",
    "    print(a+b)\n",
    "    if b<10:\n",
    "        print(a+b)\n",
    "    print(a-b)\n",
    "res=addition(10,15)\n",
    "print(res)"
   ]
  },
  {
   "cell_type": "code",
   "execution_count": 11,
   "id": "b7625c23-71bc-476b-b615-878631a9faea",
   "metadata": {},
   "outputs": [
    {
     "name": "stdout",
     "output_type": "stream",
     "text": [
      "25\n",
      "25\n",
      "None\n"
     ]
    }
   ],
   "source": [
    "def addition(a,b):\n",
    "    print(a+b)\n",
    "    if b>10:\n",
    "        print(a+b)\n",
    "    else:\n",
    "        print(a-b)\n",
    "res=addition(10,15)\n",
    "print(res)"
   ]
  },
  {
   "cell_type": "code",
   "execution_count": 13,
   "id": "f8a8a166-70d3-4d36-ad13-ca1ce6e82f59",
   "metadata": {},
   "outputs": [
    {
     "name": "stdout",
     "output_type": "stream",
     "text": [
      "25\n",
      "25\n",
      "-5\n",
      "None\n"
     ]
    }
   ],
   "source": [
    "def addition(a,b):\n",
    "    print(a+b)\n",
    "    if b>10:\n",
    "        print(a+b)\n",
    "    print(a-b)\n",
    "res=addition(10,15)\n",
    "print(res)"
   ]
  },
  {
   "cell_type": "markdown",
   "id": "ddf5ac49-fc2b-4f2d-a135-ffb2f71a793b",
   "metadata": {
    "scrolled": true
   },
   "source": [
    "#### Types of arguments\n",
    "- positional Arguments\n",
    "- Default Arguments\n",
    "- Keyword Arguments\n",
    "- Variable Arguments\n",
    "- Variable Length Arguments\n",
    "- Variable Keyword Arguments\n"
   ]
  },
  {
   "cell_type": "code",
   "execution_count": 26,
   "id": "c2e71d12-f8db-43d0-bdca-af253694a41a",
   "metadata": {
    "scrolled": true
   },
   "outputs": [
    {
     "name": "stdout",
     "output_type": "stream",
     "text": [
      "0.5\n"
     ]
    }
   ],
   "source": [
    "##Positional Arguments\n",
    "#function defination\n",
    "def division(a,b):\n",
    "    if b==0:\n",
    "        return \"Zero division not possible\"\n",
    "    return a/b\n",
    "#function calling\n",
    "c,d=10,5\n",
    "res=division(d,c)\n",
    "print(res)"
   ]
  },
  {
   "cell_type": "code",
   "execution_count": 28,
   "id": "217b36c8-8cd8-4183-a3e5-9505f6b7b443",
   "metadata": {},
   "outputs": [
    {
     "name": "stdout",
     "output_type": "stream",
     "text": [
      "2.0\n"
     ]
    }
   ],
   "source": [
    "##Positional Arguments\n",
    "#function defination\n",
    "def division(a,b):\n",
    "    if b==0:\n",
    "        return \"Zero division not possible\"\n",
    "    return a/b\n",
    "#function calling\n",
    "c,d=10,5\n",
    "res=division(c,d)\n",
    "print(res)"
   ]
  },
  {
   "cell_type": "code",
   "execution_count": 20,
   "id": "48fc0f47-bb03-4669-b76d-a135e8e0d970",
   "metadata": {},
   "outputs": [
    {
     "name": "stdout",
     "output_type": "stream",
     "text": [
      "2.0\n"
     ]
    }
   ],
   "source": [
    "##Keyword Arguments\n",
    "#function defination\n",
    "def division(a:int,b):\n",
    "    if b==0:\n",
    "        return \"Zero division not possible\"\n",
    "    return a/b\n",
    "#function calling\n",
    "c,d=10,5\n",
    "res=division(a=c,b=d)\n",
    "print(res)"
   ]
  },
  {
   "cell_type": "code",
   "execution_count": 23,
   "id": "5432b709-09db-4e91-bde5-aeabbd23f2e6",
   "metadata": {},
   "outputs": [
    {
     "name": "stdout",
     "output_type": "stream",
     "text": [
      "60\n"
     ]
    }
   ],
   "source": [
    "#default arguments\n",
    "#function defination\n",
    "def addition(a,b,c):\n",
    "    return a+b+c\n",
    "res=addition(10,20,30)\n",
    "print(res)\n",
    "\n",
    "    "
   ]
  },
  {
   "cell_type": "code",
   "execution_count": 29,
   "id": "ac35b1bf-adee-4c09-817c-e23513ec7cd2",
   "metadata": {},
   "outputs": [
    {
     "name": "stdout",
     "output_type": "stream",
     "text": [
      "30\n"
     ]
    }
   ],
   "source": [
    "#default arguments\n",
    "#function defination\n",
    "def addition(a,b,c=0):\n",
    "    return a+b+c\n",
    "res=addition(10,20)\n",
    "print(res)\n",
    "#same for 4 variables also\n",
    "#if we won't mention the argument values then we need to mention default value in function as =0. \n",
    "#indication of function should be in order.  "
   ]
  },
  {
   "cell_type": "markdown",
   "id": "3e256408-30db-41d2-baf1-c40da8b83368",
   "metadata": {},
   "source": [
    "#default arguments\n",
    "#function defination\n",
    "def addition(a,b,c=0):\n",
    "    return a+b+c\n",
    "res=addition(10,20,25)\n",
    "print(res) \n",
    "#same for 4 variables also\n",
    "#if we won't mention the argument values then we need to mention default value in function as =0.\n",
    "#indication of function should be in order."
   ]
  },
  {
   "cell_type": "code",
   "execution_count": 31,
   "id": "f0c27752-681d-4581-baf9-e08575d24c1f",
   "metadata": {},
   "outputs": [
    {
     "name": "stdout",
     "output_type": "stream",
     "text": [
      "25 45 70\n"
     ]
    }
   ],
   "source": [
    "def addition(a,b,c=0,d=0):\n",
    "    return a+b+c+d\n",
    "r1=addition(10,15)\n",
    "r2=addition(10,15,20)\n",
    "r3=addition(10,15,20,25)\n",
    "print(r1,r2,r3)"
   ]
  },
  {
   "cell_type": "code",
   "execution_count": 35,
   "id": "5b5689b4-b76f-4861-9a5b-41926f22aa9d",
   "metadata": {
    "scrolled": true
   },
   "outputs": [
    {
     "name": "stdout",
     "output_type": "stream",
     "text": [
      "25\n",
      "53\n",
      "65\n",
      "None None None\n"
     ]
    }
   ],
   "source": [
    "def addition(a,b,c=0,d=0):\n",
    "    print(a+b+c+d)\n",
    "r1=addition(10,15)\n",
    "r2=addition(15,18,20)\n",
    "r3=addition(1,19,20,25)\n",
    "print(r1,r2,r3)"
   ]
  },
  {
   "cell_type": "code",
   "execution_count": null,
   "id": "2fdbb625-7fb7-40c2-a95a-2892d5409f0e",
   "metadata": {},
   "outputs": [],
   "source": []
  }
 ],
 "metadata": {
  "kernelspec": {
   "display_name": "Python 3 (ipykernel)",
   "language": "python",
   "name": "python3"
  },
  "language_info": {
   "codemirror_mode": {
    "name": "ipython",
    "version": 3
   },
   "file_extension": ".py",
   "mimetype": "text/x-python",
   "name": "python",
   "nbconvert_exporter": "python",
   "pygments_lexer": "ipython3",
   "version": "3.12.0"
  }
 },
 "nbformat": 4,
 "nbformat_minor": 5
}

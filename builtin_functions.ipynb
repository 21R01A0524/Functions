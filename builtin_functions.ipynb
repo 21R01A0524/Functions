{
 "cells": [
  {
   "cell_type": "markdown",
   "id": "75f7fec0-a94c-4ed8-a255-de2d7512a3dc",
   "metadata": {},
   "source": [
    "# built in functions - \n",
    "The functions which are provided by the python without implementation , without code and withput importing from other modules\n",
    "- sum()\n",
    "- len()\n",
    "- max()\n",
    "- min()\n",
    "- input()\n",
    "- print()\n",
    "- abs()->absolute->returns the absolute value and turns -ve value into +ve value\n",
    "- reversed()\n",
    "- map()\n",
    "- zip()-returns list of tuple values\n",
    "- filter()->it filters the seq based on the conditions\n",
    "- avg()\n",
    "- all()->if all elements are true then returns true or else false(same like and operation)\n",
    "- ord()->returns ascii values from letter to number\n",
    "- chr()->returns values from numbers to letters\n",
    "- enumerate()->returns list of tuples index and values pairs"
   ]
  },
  {
   "cell_type": "code",
   "execution_count": 3,
   "id": "bb51faa4-aba1-4e55-8ba7-3f387632e0a6",
   "metadata": {},
   "outputs": [
    {
     "name": "stdout",
     "output_type": "stream",
     "text": [
      "-10\n"
     ]
    }
   ],
   "source": [
    "a,b=10,20\n",
    "print(a-b)"
   ]
  },
  {
   "cell_type": "code",
   "execution_count": 4,
   "id": "421bdb05-0023-40a8-80d3-4b95a6f7a83d",
   "metadata": {},
   "outputs": [
    {
     "name": "stdout",
     "output_type": "stream",
     "text": [
      "10\n"
     ]
    }
   ],
   "source": [
    "print(abs(a-b))"
   ]
  },
  {
   "cell_type": "code",
   "execution_count": 11,
   "id": "46f583f0-6ffa-424e-8bc2-f38b2bbb9bb7",
   "metadata": {},
   "outputs": [
    {
     "name": "stdout",
     "output_type": "stream",
     "text": [
      "[4, 3, 2, 1]\n"
     ]
    }
   ],
   "source": [
    "res=reversed([1,2,3,4])\n",
    "print(list(res))"
   ]
  },
  {
   "cell_type": "code",
   "execution_count": 12,
   "id": "bd501d72-405c-4567-92aa-cfb4fa3e82c9",
   "metadata": {},
   "outputs": [
    {
     "name": "stdout",
     "output_type": "stream",
     "text": [
      "['n', 'a', 'n', 'g', 'e', 'd', 'o', 'c']\n"
     ]
    }
   ],
   "source": [
    "res=reversed('codegnan')\n",
    "print(list(res))"
   ]
  },
  {
   "cell_type": "code",
   "execution_count": 17,
   "id": "8ab7839c-a22f-49f7-bcff-f1335a9fbf4f",
   "metadata": {},
   "outputs": [
    {
     "data": {
      "text/plain": [
       "(6, 7, 8, 9, 10)"
      ]
     },
     "execution_count": 17,
     "metadata": {},
     "output_type": "execute_result"
    }
   ],
   "source": [
    "#map\n",
    "def add(x):\n",
    "    return x+5\n",
    "l=[1,2,3,4,5]\n",
    "tuple(map(add,l))"
   ]
  },
  {
   "cell_type": "code",
   "execution_count": 18,
   "id": "323bf4f9-45c7-467c-b871-4b65577a9081",
   "metadata": {},
   "outputs": [
    {
     "data": {
      "text/plain": [
       "[6, 7, 8, 9, 10]"
      ]
     },
     "execution_count": 18,
     "metadata": {},
     "output_type": "execute_result"
    }
   ],
   "source": [
    "#map\n",
    "def add(x):\n",
    "    return x+5\n",
    "l=[1,2,3,4,5]\n",
    "list(map(add,l))"
   ]
  },
  {
   "cell_type": "code",
   "execution_count": 19,
   "id": "c687167c-b40c-4311-bf4f-bb7dec754995",
   "metadata": {},
   "outputs": [
    {
     "name": "stdout",
     "output_type": "stream",
     "text": [
      "[2, 4]\n"
     ]
    }
   ],
   "source": [
    "#filter\n",
    "def add(x):\n",
    "    if x%2==0:\n",
    "        return x\n",
    "l=[1,2,3,4,5]\n",
    "print(list(filter(add,l)))\n",
    "    "
   ]
  },
  {
   "cell_type": "code",
   "execution_count": 24,
   "id": "7cdae356-a6ca-4157-82b4-55904db554f3",
   "metadata": {},
   "outputs": [
    {
     "name": "stdout",
     "output_type": "stream",
     "text": [
      "[(1, 'a'), (2, 'b'), (3, 'c'), (4, 'd'), (5, 'e'), (6, 'f')]\n"
     ]
    }
   ],
   "source": [
    "#zip\n",
    "l1=[1,2,3,4,5,6,7]\n",
    "l2=['a','b','c','d','e','f']\n",
    "print(list(zip(l1,l2)))"
   ]
  },
  {
   "cell_type": "code",
   "execution_count": 23,
   "id": "1ddd64f6-4d08-4c24-b27f-cf709af3046f",
   "metadata": {},
   "outputs": [
    {
     "name": "stdout",
     "output_type": "stream",
     "text": [
      "[(1, 'a', 10), (2, 'b', 20), (3, 'c', 30), (4, 'd', 40), (5, 'e', 50), (6, 'f', 60)]\n"
     ]
    }
   ],
   "source": [
    "#zip\n",
    "l1=[1,2,3,4,5,6,7]\n",
    "l2=['a','b','c','d','e','f','i']\n",
    "l3=[10,20,30,40,50,60]\n",
    "print(list(zip(l1,l2,l3)))"
   ]
  },
  {
   "cell_type": "code",
   "execution_count": 25,
   "id": "114f7eb4-e93a-428f-91f3-61fe62a1a2ea",
   "metadata": {},
   "outputs": [
    {
     "name": "stdout",
     "output_type": "stream",
     "text": [
      "[(1, 'a'), (2, 'b'), (3, 'c'), (4, 'd'), (5, 'e'), (6, 'f')]\n"
     ]
    }
   ],
   "source": [
    "#zip\n",
    "l1=[1,2,3,4,5,6,7]\n",
    "l2=['a','b','c','d','e','f']\n",
    "print(list(zip(l1,l2)))"
   ]
  },
  {
   "cell_type": "code",
   "execution_count": 30,
   "id": "b4bfd6d7-8f01-492f-8cc1-2974175266dd",
   "metadata": {},
   "outputs": [
    {
     "name": "stdout",
     "output_type": "stream",
     "text": [
      "<enumerate object at 0x000001E8D9791DA0>\n",
      "[(0, 'a'), (1, 'b'), (2, 'c'), (3, 'd'), (4, 'e'), (5, 'f')]\n"
     ]
    }
   ],
   "source": [
    "#enumerate\n",
    "print(enumerate(l2))\n",
    "print(list(enumerate(l2)))"
   ]
  },
  {
   "cell_type": "code",
   "execution_count": 29,
   "id": "fa0c2bd9-9b1f-43df-ae52-96a15a777d41",
   "metadata": {},
   "outputs": [
    {
     "name": "stdout",
     "output_type": "stream",
     "text": [
      "<enumerate object at 0x000001E8D9791DA0>\n",
      "[(0, 1), (1, 2), (2, 3), (3, 4), (4, 5), (5, 6), (6, 7)]\n"
     ]
    }
   ],
   "source": [
    "#enumerate\n",
    "print(enumerate(l1))\n",
    "print(list(enumerate(l1)))"
   ]
  },
  {
   "cell_type": "code",
   "execution_count": null,
   "id": "8880acdb-61c2-466b-9202-fcda0b829005",
   "metadata": {},
   "outputs": [],
   "source": []
  },
  {
   "cell_type": "code",
   "execution_count": 31,
   "id": "fbab6841-8d81-4ab8-8f18-a9e5b7780aa2",
   "metadata": {},
   "outputs": [
    {
     "name": "stdout",
     "output_type": "stream",
     "text": [
      "True\n"
     ]
    }
   ],
   "source": [
    "#any\n",
    "print(any([1,2,3,4]))"
   ]
  },
  {
   "cell_type": "code",
   "execution_count": 32,
   "id": "e2af6728-d414-4bdf-a813-8ab7e31fcfe8",
   "metadata": {},
   "outputs": [
    {
     "name": "stdout",
     "output_type": "stream",
     "text": [
      "True\n"
     ]
    }
   ],
   "source": [
    "#all\n",
    "print(all([1,2,3,4]))"
   ]
  },
  {
   "cell_type": "code",
   "execution_count": 34,
   "id": "067594dd-9e9a-4f63-afd2-b04c0aa64bfc",
   "metadata": {},
   "outputs": [
    {
     "name": "stdout",
     "output_type": "stream",
     "text": [
      "False\n"
     ]
    }
   ],
   "source": [
    "#all\n",
    "print(all([1,2,3,4,0]))"
   ]
  },
  {
   "cell_type": "code",
   "execution_count": 35,
   "id": "dffad6e5-1347-416d-9ad8-03f9b5495fc9",
   "metadata": {},
   "outputs": [
    {
     "name": "stdout",
     "output_type": "stream",
     "text": [
      "True\n"
     ]
    }
   ],
   "source": [
    "#any\n",
    "print(any([1,2,3,'abc',4]))"
   ]
  },
  {
   "cell_type": "code",
   "execution_count": 36,
   "id": "a8783218-ccc6-4ca6-b6fa-5c9a2eaf546f",
   "metadata": {},
   "outputs": [
    {
     "name": "stdout",
     "output_type": "stream",
     "text": [
      "False\n"
     ]
    }
   ],
   "source": [
    "#any\n",
    "print(any([0,0,0,0]))"
   ]
  },
  {
   "cell_type": "code",
   "execution_count": 37,
   "id": "f16b383c-9929-46dc-b8b3-0842bb3de248",
   "metadata": {},
   "outputs": [
    {
     "name": "stdout",
     "output_type": "stream",
     "text": [
      "False\n"
     ]
    }
   ],
   "source": [
    "#all\n",
    "print(all([1,2,3,4,0]))"
   ]
  },
  {
   "cell_type": "code",
   "execution_count": 38,
   "id": "30da5a1c-5f3c-4b8d-a5ac-5cc4d5c57ac2",
   "metadata": {},
   "outputs": [
    {
     "name": "stdout",
     "output_type": "stream",
     "text": [
      "False\n"
     ]
    }
   ],
   "source": [
    "#all\n",
    "print(all([0,0,0,0,0]))"
   ]
  },
  {
   "cell_type": "code",
   "execution_count": 39,
   "id": "9e7b9fdc-01c0-4784-b114-f8d3a7caf313",
   "metadata": {},
   "outputs": [
    {
     "name": "stdout",
     "output_type": "stream",
     "text": [
      "False\n"
     ]
    }
   ],
   "source": [
    "#all\n",
    "print(all([1,0,0,0,0,0]))"
   ]
  },
  {
   "cell_type": "code",
   "execution_count": 41,
   "id": "28176593-d7c0-41aa-af71-209e4f68666d",
   "metadata": {},
   "outputs": [
    {
     "name": "stdout",
     "output_type": "stream",
     "text": [
      "65\n",
      "66\n"
     ]
    }
   ],
   "source": [
    "#ord\n",
    "print(ord('A'))\n",
    "print(ord('B'))"
   ]
  },
  {
   "cell_type": "code",
   "execution_count": 42,
   "id": "6df31ff1-669a-489d-804e-fefaf7404a6b",
   "metadata": {},
   "outputs": [
    {
     "name": "stdout",
     "output_type": "stream",
     "text": [
      "A\n"
     ]
    }
   ],
   "source": [
    "#chr()\n",
    "print(chr(65))"
   ]
  },
  {
   "cell_type": "code",
   "execution_count": 45,
   "id": "0ad6c81f-5643-478d-986e-eecb17306894",
   "metadata": {},
   "outputs": [
    {
     "name": "stdout",
     "output_type": "stream",
     "text": [
      "i\n"
     ]
    }
   ],
   "source": [
    "print(chr(105))"
   ]
  },
  {
   "cell_type": "code",
   "execution_count": 47,
   "id": "3e79c047-fa2c-459c-9465-f8c134889261",
   "metadata": {},
   "outputs": [
    {
     "name": "stdout",
     "output_type": "stream",
     "text": [
      "97\n"
     ]
    }
   ],
   "source": [
    "print(ord('a'))"
   ]
  },
  {
   "cell_type": "code",
   "execution_count": 48,
   "id": "4030310f-6cd8-4f87-b7f5-44b10f0810d6",
   "metadata": {},
   "outputs": [
    {
     "name": "stdout",
     "output_type": "stream",
     "text": [
      "<class 'builtin_function_or_method'>\n"
     ]
    }
   ],
   "source": [
    "print(type(len))"
   ]
  },
  {
   "cell_type": "code",
   "execution_count": 1,
   "id": "985fdffa-80e7-413e-8f96-513ee8f45aec",
   "metadata": {},
   "outputs": [
    {
     "name": "stdout",
     "output_type": "stream",
     "text": [
      "True\n"
     ]
    }
   ],
   "source": [
    "print(any([1,2,3,0]))"
   ]
  },
  {
   "cell_type": "code",
   "execution_count": null,
   "id": "e7ab53c9-3aa4-4a3c-b324-c266ed19ed93",
   "metadata": {},
   "outputs": [],
   "source": []
  }
 ],
 "metadata": {
  "kernelspec": {
   "display_name": "Python 3 (ipykernel)",
   "language": "python",
   "name": "python3"
  },
  "language_info": {
   "codemirror_mode": {
    "name": "ipython",
    "version": 3
   },
   "file_extension": ".py",
   "mimetype": "text/x-python",
   "name": "python",
   "nbconvert_exporter": "python",
   "pygments_lexer": "ipython3",
   "version": "3.12.0"
  }
 },
 "nbformat": 4,
 "nbformat_minor": 5
}

{
 "cells": [
  {
   "cell_type": "markdown",
   "id": "d6db1cf7-3179-4d2c-9381-1b6c0c9566a4",
   "metadata": {},
   "source": [
    "#### Generators:\n",
    "- It is a one type of function\n",
    "- If the function defination contains atleast one YIELD Keyword.Those functions we can call it as generators function.\n",
    "- Result takes less memory.(value will be replaced but not stored in other position) \n",
    "- It return only one value at once.\n",
    "- It returns iterable type Generative object.\n",
    "- It executes multiple yield statements.\n",
    "- In this function it remembers the where the function was paused.\n",
    "- This function start execution right after the yiedls keyword.\n",
    "- It has lazy functionality.(becoz it takes more time)\n",
    "- we can create infinite sequenece.\n",
    "#### Functions:\n",
    "- contains RETURN statement.\n",
    "- terminates after returning the 1st statement.\n",
    "- returns single return statement.\n",
    "- single time execution.\n",
    "- returns entire sequence of values.\n",
    "- takes more memory to store result.\n",
    "- execution is fast.\n",
    "- can't create infinite sequence."
   ]
  },
  {
   "cell_type": "markdown",
   "id": "5741324a-209a-41a8-9659-acfb698fdc4d",
   "metadata": {},
   "source": [
    "#### Syntax:\n",
    "def gen_name(x):\n",
    "    #statements\n",
    "    #Yield expression\n",
    "    #statements"
   ]
  },
  {
   "cell_type": "code",
   "execution_count": 10,
   "id": "432c40f6-8ca3-4c7a-ade0-2c7cd663bb8b",
   "metadata": {},
   "outputs": [
    {
     "name": "stdout",
     "output_type": "stream",
     "text": [
      "<generator object gen at 0x0000025F9488EE00>\n",
      "0\n",
      "1\n",
      "2\n",
      "3\n",
      "4\n"
     ]
    }
   ],
   "source": [
    "#generator\n",
    "def gen(x):\n",
    "    i=0\n",
    "    while i<x:\n",
    "        yield i\n",
    "        i+=1\n",
    "res=gen(10)\n",
    "print(res)#<generator object gen at 0x0000025F9488EE00>\n",
    "#by using next function\n",
    "print(next(res))#0\n",
    "#to get multiple values\n",
    "print(next(res))#1\n",
    "print(next(res))#2\n",
    "print(next(res))#3\n",
    "print(next(res))#4"
   ]
  },
  {
   "cell_type": "code",
   "execution_count": 12,
   "id": "d6edd5e3-dabd-4fd9-9986-81d708d0c92e",
   "metadata": {},
   "outputs": [
    {
     "name": "stdout",
     "output_type": "stream",
     "text": [
      "<generator object gen at 0x0000025F9488EE00>\n",
      "0\n",
      "1\n",
      "2\n",
      "3\n",
      "4\n"
     ]
    },
    {
     "ename": "StopIteration",
     "evalue": "",
     "output_type": "error",
     "traceback": [
      "\u001b[31m---------------------------------------------------------------------------\u001b[39m",
      "\u001b[31mStopIteration\u001b[39m                             Traceback (most recent call last)",
      "\u001b[36mCell\u001b[39m\u001b[36m \u001b[39m\u001b[32mIn[12]\u001b[39m\u001b[32m, line 16\u001b[39m\n\u001b[32m     14\u001b[39m \u001b[38;5;28mprint\u001b[39m(\u001b[38;5;28mnext\u001b[39m(res))\u001b[38;5;66;03m#3\u001b[39;00m\n\u001b[32m     15\u001b[39m \u001b[38;5;28mprint\u001b[39m(\u001b[38;5;28mnext\u001b[39m(res))\u001b[38;5;66;03m#4\u001b[39;00m\n\u001b[32m---> \u001b[39m\u001b[32m16\u001b[39m \u001b[38;5;28mprint\u001b[39m(\u001b[38;5;28;43mnext\u001b[39;49m\u001b[43m(\u001b[49m\u001b[43mres\u001b[49m\u001b[43m)\u001b[49m)\n\u001b[32m     17\u001b[39m \u001b[38;5;28mprint\u001b[39m(\u001b[38;5;28mnext\u001b[39m(res))\n",
      "\u001b[31mStopIteration\u001b[39m: "
     ]
    }
   ],
   "source": [
    "#generator\n",
    "def gen(x):\n",
    "    i=0\n",
    "    while i<x:\n",
    "        yield i\n",
    "        i+=1\n",
    "res=gen(5)\n",
    "print(res)#<generator object gen at 0x0000025F9488EE00>\n",
    "#by using next function\n",
    "print(next(res))#0\n",
    "#to get multiple values\n",
    "print(next(res))#1\n",
    "print(next(res))#2\n",
    "print(next(res))#3\n",
    "print(next(res))#4\n",
    "print(next(res))#StopIteration Error\n",
    "print(next(res))#StopIteration Error(becoz we dont have values to store)"
   ]
  },
  {
   "cell_type": "code",
   "execution_count": 6,
   "id": "68f2c225-4011-4649-b6a2-3ff1dd986fb0",
   "metadata": {},
   "outputs": [
    {
     "name": "stdout",
     "output_type": "stream",
     "text": [
      "0\n"
     ]
    }
   ],
   "source": [
    "#function\n",
    "def fun(x):\n",
    "    i=0\n",
    "    while i<x:\n",
    "        return i\n",
    "        i+=1\n",
    "res=fun(10)\n",
    "print(res)"
   ]
  },
  {
   "cell_type": "markdown",
   "id": "2ed2e21f-b0e3-446a-a657-bd65aa265b4a",
   "metadata": {},
   "source": [
    "#### NEXT function:\n",
    "- This function used to access the next value of generator object.\n",
    "- If there is no values if you try to access next value of generative object it raises stop iteration error.\n",
    "- To overcome this stop-iteration error we need to use LOOPS. "
   ]
  },
  {
   "cell_type": "code",
   "execution_count": 15,
   "id": "1d8f313e-d910-4236-bb58-a58c33e9618c",
   "metadata": {},
   "outputs": [
    {
     "name": "stdout",
     "output_type": "stream",
     "text": [
      "<generator object gen at 0x0000025F9488FF40>\n",
      "0\n",
      "1\n",
      "2\n",
      "3\n",
      "4\n"
     ]
    }
   ],
   "source": [
    "#to overcome the stop iterationn error without using next method\n",
    "def gen(x):\n",
    "    i=0\n",
    "    while i<x:\n",
    "        yield i\n",
    "        i+=1\n",
    "res=gen(5)\n",
    "print(res)\n",
    "for num in res:\n",
    "    print(num)"
   ]
  },
  {
   "cell_type": "code",
   "execution_count": 20,
   "id": "2ac518e8-fa99-408a-bdd1-6fa1fea01c09",
   "metadata": {},
   "outputs": [
    {
     "name": "stdout",
     "output_type": "stream",
     "text": [
      "memory in bytes: 8448728\n",
      "memory in bytes: 192\n",
      "memory in bytes: 8000040\n"
     ]
    }
   ],
   "source": [
    "#takes less memory\n",
    "import sys\n",
    "lst=[x for x in range(1_000_000)]#it is list compresssion\n",
    "print(\"memory in bytes:\",sys.getsizeof(lst))\n",
    "gen=(x for x in range(1_000_000))#it is generator compression\n",
    "print(\"memory in bytes:\",sys.getsizeof(gen))\n",
    "fun=tuple(x for x in range(1_000_000))###we don't have tuple compressions but if we declare tuple at starting it becomes tuple compression\n",
    "print(\"memory in bytes:\",sys.getsizeof(fun))\n"
   ]
  },
  {
   "cell_type": "code",
   "execution_count": null,
   "id": "fc91f806-d4e7-4670-a23d-3c7e4ad176a5",
   "metadata": {},
   "outputs": [],
   "source": [
    "def num():\n",
    "    for i in range(3):\n",
    "        yield i*i\n",
    "gen"
   ]
  }
 ],
 "metadata": {
  "kernelspec": {
   "display_name": "Python 3 (ipykernel)",
   "language": "python",
   "name": "python3"
  },
  "language_info": {
   "codemirror_mode": {
    "name": "ipython",
    "version": 3
   },
   "file_extension": ".py",
   "mimetype": "text/x-python",
   "name": "python",
   "nbconvert_exporter": "python",
   "pygments_lexer": "ipython3",
   "version": "3.12.0"
  }
 },
 "nbformat": 4,
 "nbformat_minor": 5
}

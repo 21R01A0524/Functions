{
 "cells": [
  {
   "cell_type": "markdown",
   "id": "f0dce964-5cbb-4238-8c7f-a70d10e62e9a",
   "metadata": {},
   "source": [
    "Problem:Given nuber is a perfect square or not"
   ]
  },
  {
   "cell_type": "markdown",
   "id": "b9a4517b-fbfe-4f48-bd37-c420552a0190",
   "metadata": {},
   "source": [
    "- 9 -is a perfect square\n",
    "- 8 - not a perfect square"
   ]
  },
  {
   "cell_type": "code",
   "execution_count": 14,
   "id": "bf5cce97-5ba2-4ce3-87db-e9a7df23960e",
   "metadata": {},
   "outputs": [
    {
     "name": "stdin",
     "output_type": "stream",
     "text": [
      " 5\n"
     ]
    },
    {
     "name": "stdout",
     "output_type": "stream",
     "text": [
      "Not a perfect square\n"
     ]
    }
   ],
   "source": [
    "num=int(input())\n",
    "val=int(num**0.5)\n",
    "if val*val==num:\n",
    "    print(\"perfect square\")\n",
    "else:\n",
    "    print(\"Not a perfect square\")\n",
    "    \n",
    "\n",
    "            "
   ]
  },
  {
   "cell_type": "code",
   "execution_count": 16,
   "id": "9a2d176e-a07b-475d-96bf-7b16f28cb0e8",
   "metadata": {},
   "outputs": [
    {
     "name": "stdin",
     "output_type": "stream",
     "text": [
      " 9\n"
     ]
    },
    {
     "name": "stdout",
     "output_type": "stream",
     "text": [
      "3\n",
      "perfect square\n"
     ]
    }
   ],
   "source": [
    "num=int(input())\n",
    "val=int(num**0.5)\n",
    "print(val)\n",
    "if val*val==num:\n",
    "    print(\"perfect square\")\n",
    "else:\n",
    "    print(\"Not a perfect square\")\n",
    "    \n"
   ]
  },
  {
   "cell_type": "code",
   "execution_count": 17,
   "id": "1d127131-0289-496e-bb57-2f492e6a0ddc",
   "metadata": {},
   "outputs": [
    {
     "name": "stdout",
     "output_type": "stream",
     "text": [
      "25\n"
     ]
    }
   ],
   "source": [
    "#variable length arguments\n",
    "def addition(a,b):\n",
    "    c=a+b\n",
    "    return c\n",
    "res=addition(10,15)\n",
    "print(res)"
   ]
  },
  {
   "cell_type": "code",
   "execution_count": 18,
   "id": "51884ef5-e1b7-4abc-877d-27f8d2b10086",
   "metadata": {},
   "outputs": [
    {
     "name": "stdout",
     "output_type": "stream",
     "text": [
      "10 [20, 30]\n"
     ]
    }
   ],
   "source": [
    "a,*b=10,20,30\n",
    "print(a,b)"
   ]
  },
  {
   "cell_type": "code",
   "execution_count": 28,
   "id": "24f1291e-4677-4aa5-90c5-0bb11450b511",
   "metadata": {},
   "outputs": [
    {
     "name": "stdout",
     "output_type": "stream",
     "text": [
      "<class 'tuple'>\n",
      "(15, 30, 40, 53)\n",
      "138\n"
     ]
    }
   ],
   "source": [
    "def addition(a,*args):\n",
    "    print(type(args))\n",
    "    print(args)\n",
    "    s=0\n",
    "    for num in args:\n",
    "        s=s+num\n",
    "    return s\n",
    "    \n",
    "res=addition(10,15,30,40,53)\n",
    "print(res)"
   ]
  },
  {
   "cell_type": "code",
   "execution_count": 35,
   "id": "b0c9bf27-2323-4816-b3c2-07272121739f",
   "metadata": {},
   "outputs": [
    {
     "ename": "TypeError",
     "evalue": "addition() got an unexpected keyword argument 'c'",
     "output_type": "error",
     "traceback": [
      "\u001b[31m---------------------------------------------------------------------------\u001b[39m",
      "\u001b[31mTypeError\u001b[39m                                 Traceback (most recent call last)",
      "\u001b[36mCell\u001b[39m\u001b[36m \u001b[39m\u001b[32mIn[35]\u001b[39m\u001b[32m, line 4\u001b[39m\n\u001b[32m      2\u001b[39m \u001b[38;5;28;01mdef\u001b[39;00m\u001b[38;5;250m \u001b[39m\u001b[34maddition\u001b[39m(a,b):\n\u001b[32m      3\u001b[39m     \u001b[38;5;28;01mreturn\u001b[39;00m a+b\n\u001b[32m----> \u001b[39m\u001b[32m4\u001b[39m \u001b[38;5;28mprint\u001b[39m(\u001b[43maddition\u001b[49m\u001b[43m(\u001b[49m\u001b[43mb\u001b[49m\u001b[43m=\u001b[49m\u001b[32;43m20\u001b[39;49m\u001b[43m,\u001b[49m\u001b[43ma\u001b[49m\u001b[43m=\u001b[49m\u001b[32;43m10\u001b[39;49m\u001b[43m,\u001b[49m\u001b[43mc\u001b[49m\u001b[43m=\u001b[49m\u001b[32;43m30\u001b[39;49m\u001b[43m)\u001b[49m)\n",
      "\u001b[31mTypeError\u001b[39m: addition() got an unexpected keyword argument 'c'"
     ]
    }
   ],
   "source": [
    "#variable length keyword arguments\n",
    "def addition(a,b):\n",
    "    return a+b\n",
    "print(addition(b=20,a=10,c=30))"
   ]
  },
  {
   "cell_type": "code",
   "execution_count": 34,
   "id": "3e32c261-3501-42f5-b522-f63d7e93097e",
   "metadata": {},
   "outputs": [
    {
     "name": "stdout",
     "output_type": "stream",
     "text": [
      "<class 'dict'>\n",
      "{'b': 20, 'c': 30}\n",
      "None\n"
     ]
    }
   ],
   "source": [
    "#variable length keyword arguments\n",
    "def addition(a,**kwargs):\n",
    "    print(type(kwargs))\n",
    "    print(kwargs)\n",
    "    \n",
    "print(addition(b=20,a=10,c=30))"
   ]
  },
  {
   "cell_type": "code",
   "execution_count": 36,
   "id": "57a92313-6787-47fd-adab-a4c228f838f6",
   "metadata": {
    "scrolled": true
   },
   "outputs": [
    {
     "name": "stdout",
     "output_type": "stream",
     "text": [
      "<class 'dict'>\n",
      "10 {'b': 20, 'c': 30}\n",
      "50\n"
     ]
    }
   ],
   "source": [
    "#variable length keyword arguments\n",
    "def addition(a,**kwargs):\n",
    "    print(type(kwargs))\n",
    "    print(a,kwargs)\n",
    "    s=0\n",
    "    for val in kwargs.values():\n",
    "        s+=val\n",
    "    return s\n",
    "print(addition(b=20,a=10,c=30))"
   ]
  },
  {
   "attachments": {},
   "cell_type": "markdown",
   "id": "4acd265b-c721-4f12-b661-d59175bdb917",
   "metadata": {},
   "source": [
    "##### Scope of Variables\n",
    "- local Variables:The variable can access the inside function,then those variable called as Local Variables\n",
    "- global variables : the vaariable are not defined outside the function and we can access those values inside the function but can't modify\n",
    "- non local variables: the variable can defined inside nested function,those variable called as \"Non local variable\" "
   ]
  },
  {
   "cell_type": "code",
   "execution_count": 1,
   "id": "cd0332b0-ff8e-4769-b7d7-fcad91c8ea25",
   "metadata": {},
   "outputs": [
    {
     "name": "stdout",
     "output_type": "stream",
     "text": [
      "10\n"
     ]
    },
    {
     "ename": "NameError",
     "evalue": "name 'x' is not defined",
     "output_type": "error",
     "traceback": [
      "\u001b[31m---------------------------------------------------------------------------\u001b[39m",
      "\u001b[31mNameError\u001b[39m                                 Traceback (most recent call last)",
      "\u001b[36mCell\u001b[39m\u001b[36m \u001b[39m\u001b[32mIn[1]\u001b[39m\u001b[32m, line 6\u001b[39m\n\u001b[32m      4\u001b[39m     \u001b[38;5;28mprint\u001b[39m(x)\n\u001b[32m      5\u001b[39m fun()\n\u001b[32m----> \u001b[39m\u001b[32m6\u001b[39m \u001b[38;5;28mprint\u001b[39m(\u001b[43mx\u001b[49m)\n",
      "\u001b[31mNameError\u001b[39m: name 'x' is not defined"
     ]
    }
   ],
   "source": [
    "def fun():\n",
    "    x=5 #local variables(can't access outside the function but we can modify)\n",
    "    x=x+5\n",
    "    print(x)\n",
    "fun()\n",
    "print(x)"
   ]
  },
  {
   "cell_type": "code",
   "execution_count": 2,
   "id": "946a5d26-5d64-4a50-9691-03d3f600500c",
   "metadata": {},
   "outputs": [
    {
     "name": "stdout",
     "output_type": "stream",
     "text": [
      "11\n"
     ]
    }
   ],
   "source": [
    "x=10\n",
    "def fun():\n",
    "    print(x)\n",
    "x=x+1\n",
    "print(x)"
   ]
  },
  {
   "cell_type": "code",
   "execution_count": 49,
   "id": "f7926574-4477-4f72-8327-b5b11fc219c9",
   "metadata": {},
   "outputs": [
    {
     "name": "stdout",
     "output_type": "stream",
     "text": [
      "10\n",
      "11\n"
     ]
    }
   ],
   "source": [
    "x=10\n",
    "def fun():\n",
    "    print(x)\n",
    "fun()\n",
    "x=x+1\n",
    "print(x)"
   ]
  },
  {
   "cell_type": "code",
   "execution_count": 48,
   "id": "4155670d-4813-4f63-88a5-d219615b2809",
   "metadata": {},
   "outputs": [
    {
     "ename": "UnboundLocalError",
     "evalue": "cannot access local variable 'x' where it is not associated with a value",
     "output_type": "error",
     "traceback": [
      "\u001b[31m---------------------------------------------------------------------------\u001b[39m",
      "\u001b[31mUnboundLocalError\u001b[39m                         Traceback (most recent call last)",
      "\u001b[36mCell\u001b[39m\u001b[36m \u001b[39m\u001b[32mIn[48]\u001b[39m\u001b[32m, line 5\u001b[39m\n\u001b[32m      3\u001b[39m     \u001b[38;5;28mprint\u001b[39m(x)\n\u001b[32m      4\u001b[39m     x=x+\u001b[32m2\u001b[39m\n\u001b[32m----> \u001b[39m\u001b[32m5\u001b[39m \u001b[43mfun\u001b[49m\u001b[43m(\u001b[49m\u001b[43m)\u001b[49m\n\u001b[32m      6\u001b[39m x=x+\u001b[32m1\u001b[39m\n\u001b[32m      7\u001b[39m \u001b[38;5;28mprint\u001b[39m(x)\n",
      "\u001b[36mCell\u001b[39m\u001b[36m \u001b[39m\u001b[32mIn[48]\u001b[39m\u001b[32m, line 3\u001b[39m, in \u001b[36mfun\u001b[39m\u001b[34m()\u001b[39m\n\u001b[32m      2\u001b[39m \u001b[38;5;28;01mdef\u001b[39;00m\u001b[38;5;250m \u001b[39m\u001b[34mfun\u001b[39m():\n\u001b[32m----> \u001b[39m\u001b[32m3\u001b[39m     \u001b[38;5;28mprint\u001b[39m(\u001b[43mx\u001b[49m)\n\u001b[32m      4\u001b[39m     x=x+\u001b[32m2\u001b[39m\n",
      "\u001b[31mUnboundLocalError\u001b[39m: cannot access local variable 'x' where it is not associated with a value"
     ]
    }
   ],
   "source": [
    "x=10\n",
    "def fun():\n",
    "    print(x)\n",
    "    x=x+2\n",
    "fun()\n",
    "x=x+1\n",
    "print(x)"
   ]
  },
  {
   "cell_type": "code",
   "execution_count": 50,
   "id": "0999aa9a-8ed0-4aca-af6b-11454fe05713",
   "metadata": {},
   "outputs": [
    {
     "name": "stdout",
     "output_type": "stream",
     "text": [
      "5\n"
     ]
    }
   ],
   "source": [
    "x=10\n",
    "def fun():\n",
    "    x=5\n",
    "    print(x)\n",
    "fun()"
   ]
  },
  {
   "cell_type": "code",
   "execution_count": 51,
   "id": "143d83aa-8be0-4d70-a420-1ee60ab2e0ed",
   "metadata": {},
   "outputs": [
    {
     "ename": "UnboundLocalError",
     "evalue": "cannot access local variable 'x' where it is not associated with a value",
     "output_type": "error",
     "traceback": [
      "\u001b[31m---------------------------------------------------------------------------\u001b[39m",
      "\u001b[31mUnboundLocalError\u001b[39m                         Traceback (most recent call last)",
      "\u001b[36mCell\u001b[39m\u001b[36m \u001b[39m\u001b[32mIn[51]\u001b[39m\u001b[32m, line 5\u001b[39m\n\u001b[32m      3\u001b[39m     x=x+\u001b[32m2\u001b[39m\n\u001b[32m      4\u001b[39m     \u001b[38;5;28mprint\u001b[39m(x)\n\u001b[32m----> \u001b[39m\u001b[32m5\u001b[39m \u001b[43mfun\u001b[49m\u001b[43m(\u001b[49m\u001b[43m)\u001b[49m\n",
      "\u001b[36mCell\u001b[39m\u001b[36m \u001b[39m\u001b[32mIn[51]\u001b[39m\u001b[32m, line 3\u001b[39m, in \u001b[36mfun\u001b[39m\u001b[34m()\u001b[39m\n\u001b[32m      2\u001b[39m \u001b[38;5;28;01mdef\u001b[39;00m\u001b[38;5;250m \u001b[39m\u001b[34mfun\u001b[39m():\n\u001b[32m----> \u001b[39m\u001b[32m3\u001b[39m     x=\u001b[43mx\u001b[49m+\u001b[32m2\u001b[39m\n\u001b[32m      4\u001b[39m     \u001b[38;5;28mprint\u001b[39m(x)\n",
      "\u001b[31mUnboundLocalError\u001b[39m: cannot access local variable 'x' where it is not associated with a value"
     ]
    }
   ],
   "source": [
    "x=10\n",
    "def fun():\n",
    "    x=x+2\n",
    "    print(x)\n",
    "fun()"
   ]
  },
  {
   "cell_type": "code",
   "execution_count": 52,
   "id": "173959a6-633a-45f8-aaf6-c93e7ef8be46",
   "metadata": {},
   "outputs": [
    {
     "ename": "UnboundLocalError",
     "evalue": "cannot access local variable 'x' where it is not associated with a value",
     "output_type": "error",
     "traceback": [
      "\u001b[31m---------------------------------------------------------------------------\u001b[39m",
      "\u001b[31mUnboundLocalError\u001b[39m                         Traceback (most recent call last)",
      "\u001b[36mCell\u001b[39m\u001b[36m \u001b[39m\u001b[32mIn[52]\u001b[39m\u001b[32m, line 5\u001b[39m\n\u001b[32m      3\u001b[39m     x=x+\u001b[32m2\u001b[39m\n\u001b[32m      4\u001b[39m     \u001b[38;5;28mprint\u001b[39m(x)\n\u001b[32m----> \u001b[39m\u001b[32m5\u001b[39m \u001b[43mfun\u001b[49m\u001b[43m(\u001b[49m\u001b[43m)\u001b[49m\n\u001b[32m      6\u001b[39m \u001b[38;5;28mprint\u001b[39m(x)\n",
      "\u001b[36mCell\u001b[39m\u001b[36m \u001b[39m\u001b[32mIn[52]\u001b[39m\u001b[32m, line 3\u001b[39m, in \u001b[36mfun\u001b[39m\u001b[34m()\u001b[39m\n\u001b[32m      2\u001b[39m \u001b[38;5;28;01mdef\u001b[39;00m\u001b[38;5;250m \u001b[39m\u001b[34mfun\u001b[39m():\n\u001b[32m----> \u001b[39m\u001b[32m3\u001b[39m     x=\u001b[43mx\u001b[49m+\u001b[32m2\u001b[39m\n\u001b[32m      4\u001b[39m     \u001b[38;5;28mprint\u001b[39m(x)\n",
      "\u001b[31mUnboundLocalError\u001b[39m: cannot access local variable 'x' where it is not associated with a value"
     ]
    }
   ],
   "source": [
    "x=10\n",
    "def fun():\n",
    "    x=x+2\n",
    "    print(x)\n",
    "fun()\n",
    "print(x)"
   ]
  },
  {
   "cell_type": "code",
   "execution_count": 53,
   "id": "5a04c9d9-301b-4bbe-b2eb-add7dbffa78f",
   "metadata": {},
   "outputs": [
    {
     "name": "stdout",
     "output_type": "stream",
     "text": [
      "12\n",
      "10\n"
     ]
    }
   ],
   "source": [
    "def fun():\n",
    "    x=10 #local variables\n",
    "    x=x+2\n",
    "    print(x)\n",
    "fun()\n",
    "print(x)"
   ]
  },
  {
   "cell_type": "code",
   "execution_count": 4,
   "id": "c9b83bcc-5891-47bb-a950-b2e6eacd8959",
   "metadata": {},
   "outputs": [
    {
     "name": "stdout",
     "output_type": "stream",
     "text": [
      "10\n",
      "11\n"
     ]
    }
   ],
   "source": [
    "x=10 #Global variable \n",
    "def fun():\n",
    "    #x=x+2 #we can't modify the global variables inside function\n",
    "    print(x) #we can't access the global variables inside the function\n",
    "fun()\n",
    "x=x+1\n",
    "print(x)"
   ]
  },
  {
   "cell_type": "code",
   "execution_count": 57,
   "id": "cb61900f-62ca-42f8-b3f0-fa0245845281",
   "metadata": {},
   "outputs": [
    {
     "name": "stdout",
     "output_type": "stream",
     "text": [
      "12\n",
      "13\n"
     ]
    }
   ],
   "source": [
    "#global variables modify inside the function using 'global' keyword\n",
    "x=10 #Global variable \n",
    "def fun():\n",
    "    global x\n",
    "    x=x+2 \n",
    "    print(x) #we can access the global variables inside the function\n",
    "fun()\n",
    "x=x+1\n",
    "print(x)"
   ]
  },
  {
   "cell_type": "code",
   "execution_count": 59,
   "id": "884cd066-40ba-4951-8b39-8b81ab2f775a",
   "metadata": {},
   "outputs": [
    {
     "name": "stdout",
     "output_type": "stream",
     "text": [
      "Inner\n",
      "Outer\n",
      "Global\n"
     ]
    }
   ],
   "source": [
    "x=\"Global\" #global variable\n",
    "def outer():\n",
    "    x=\"Outer\" #local variable\n",
    "    def inner():\n",
    "        y=\"Inner\" #non loval variable\n",
    "        print(y)\n",
    "    inner()\n",
    "    print(x)\n",
    "outer()\n",
    "print(x)"
   ]
  },
  {
   "cell_type": "code",
   "execution_count": 61,
   "id": "24b506c6-5af0-4f8f-92eb-bc5809d7f0cd",
   "metadata": {},
   "outputs": [
    {
     "name": "stdout",
     "output_type": "stream",
     "text": [
      "Inner Outer Global\n",
      "Global\n",
      "Global\n"
     ]
    }
   ],
   "source": [
    "x=\"Global\" #global variable\n",
    "def outer():\n",
    "    y=\"Outer\" #local variable\n",
    "    def inner():\n",
    "        z=\"Inner\" #non loval variable\n",
    "        print(z,y,x)\n",
    "    inner()\n",
    "    print(x)\n",
    "outer()\n",
    "print(x)"
   ]
  },
  {
   "cell_type": "code",
   "execution_count": 62,
   "id": "b799bc9e-eca6-4183-acf0-3490d5cfa041",
   "metadata": {},
   "outputs": [
    {
     "name": "stdout",
     "output_type": "stream",
     "text": [
      "Inner Outer Global\n"
     ]
    },
    {
     "ename": "NameError",
     "evalue": "name 'z' is not defined",
     "output_type": "error",
     "traceback": [
      "\u001b[31m---------------------------------------------------------------------------\u001b[39m",
      "\u001b[31mNameError\u001b[39m                                 Traceback (most recent call last)",
      "\u001b[36mCell\u001b[39m\u001b[36m \u001b[39m\u001b[32mIn[62]\u001b[39m\u001b[32m, line 9\u001b[39m\n\u001b[32m      7\u001b[39m     inner()\n\u001b[32m      8\u001b[39m     \u001b[38;5;28mprint\u001b[39m(y,z)\n\u001b[32m----> \u001b[39m\u001b[32m9\u001b[39m \u001b[43mouter\u001b[49m\u001b[43m(\u001b[49m\u001b[43m)\u001b[49m\n\u001b[32m     10\u001b[39m \u001b[38;5;28mprint\u001b[39m(x)\n",
      "\u001b[36mCell\u001b[39m\u001b[36m \u001b[39m\u001b[32mIn[62]\u001b[39m\u001b[32m, line 8\u001b[39m, in \u001b[36mouter\u001b[39m\u001b[34m()\u001b[39m\n\u001b[32m      6\u001b[39m     \u001b[38;5;28mprint\u001b[39m(z,y,x)\n\u001b[32m      7\u001b[39m inner()\n\u001b[32m----> \u001b[39m\u001b[32m8\u001b[39m \u001b[38;5;28mprint\u001b[39m(y,\u001b[43mz\u001b[49m)\n",
      "\u001b[31mNameError\u001b[39m: name 'z' is not defined"
     ]
    }
   ],
   "source": [
    "x=\"Global\" #global variable\n",
    "def outer():\n",
    "    y=\"Outer\" #local variable\n",
    "    def inner():\n",
    "        z=\"Inner\" #non loval variable\n",
    "        print(z,y,x)\n",
    "    inner()\n",
    "    print(x)\n",
    "outer()\n",
    "print(x)"
   ]
  },
  {
   "cell_type": "code",
   "execution_count": 64,
   "id": "2004c793-07ac-4db1-a7f3-65d5f5978ce0",
   "metadata": {},
   "outputs": [
    {
     "name": "stdout",
     "output_type": "stream",
     "text": [
      "Inner Outer Global\n",
      "Outer Global\n",
      "Global\n"
     ]
    }
   ],
   "source": [
    "x=\"Global\" #global variable\n",
    "def outer():\n",
    "    y=\"Outer\" #local variable\n",
    "    def inner():\n",
    "        z=\"Inner\" #non loval variable\n",
    "        print(z,y,x)\n",
    "    inner()\n",
    "    print(y,x)\n",
    "outer()\n",
    "print(x)"
   ]
  },
  {
   "cell_type": "code",
   "execution_count": 65,
   "id": "5475ce37-7ac9-4cdd-8c9c-b96a16ab00f6",
   "metadata": {},
   "outputs": [
    {
     "name": "stdout",
     "output_type": "stream",
     "text": [
      "Inner Outer Global\n",
      "Outer Global\n",
      "Global\n"
     ]
    }
   ],
   "source": [
    "x=\"Global\" #global variable\n",
    "def outer():\n",
    "    y=\"Outer\" #local variable\n",
    "    def inner():\n",
    "        z=\"Inner\" #non loval variable\n",
    "        print(z,y,x)\n",
    "    inner()\n",
    "    print(y,x)\n",
    "outer()\n",
    "print(x)"
   ]
  },
  {
   "cell_type": "code",
   "execution_count": 66,
   "id": "32dfa768-7859-44f0-a2b9-968f700df311",
   "metadata": {},
   "outputs": [
    {
     "ename": "SyntaxError",
     "evalue": "name 'x' is assigned to before global declaration (2554284709.py, line 3)",
     "output_type": "error",
     "traceback": [
      "  \u001b[36mCell\u001b[39m\u001b[36m \u001b[39m\u001b[32mIn[66]\u001b[39m\u001b[32m, line 3\u001b[39m\n\u001b[31m    \u001b[39m\u001b[31mglobal x\u001b[39m\n    ^\n\u001b[31mSyntaxError\u001b[39m\u001b[31m:\u001b[39m name 'x' is assigned to before global declaration\n"
     ]
    }
   ],
   "source": [
    "def fun():\n",
    "    x=10\n",
    "    global x\n",
    "print(x)"
   ]
  },
  {
   "cell_type": "code",
   "execution_count": 67,
   "id": "f4eb51a5-4495-4f21-8d6a-4dc911800351",
   "metadata": {},
   "outputs": [
    {
     "name": "stdout",
     "output_type": "stream",
     "text": [
      "10\n"
     ]
    }
   ],
   "source": [
    "x=10\n",
    "def fun():\n",
    "    #x=10\n",
    "    global x\n",
    "print(x)"
   ]
  },
  {
   "cell_type": "code",
   "execution_count": null,
   "id": "4e91e41c-967f-4308-a00b-93c74d0a1e4b",
   "metadata": {},
   "outputs": [],
   "source": []
  }
 ],
 "metadata": {
  "kernelspec": {
   "display_name": "Python 3 (ipykernel)",
   "language": "python",
   "name": "python3"
  },
  "language_info": {
   "codemirror_mode": {
    "name": "ipython",
    "version": 3
   },
   "file_extension": ".py",
   "mimetype": "text/x-python",
   "name": "python",
   "nbconvert_exporter": "python",
   "pygments_lexer": "ipython3",
   "version": "3.12.0"
  }
 },
 "nbformat": 4,
 "nbformat_minor": 5
}
